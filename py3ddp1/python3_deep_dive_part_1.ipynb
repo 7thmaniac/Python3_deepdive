{
 "cells": [
  {
   "cell_type": "code",
   "execution_count": 9,
   "id": "ebb33147-3f7e-4052-b1bb-7d4ae70488ac",
   "metadata": {},
   "outputs": [],
   "source": [
    "import this"
   ]
  },
  {
   "cell_type": "markdown",
   "id": "ed8c07aa-8b35-483d-9b51-bb6950b55296",
   "metadata": {},
   "source": [
    "#### Numbers\n",
    "\n",
    "| Integral | Non-Integral |\n",
    "|----------|--------------|\n",
    "| Integers | Floats(c double) |\n",
    "| Booleans | Complex |\n",
    "|          | Decimals |\n",
    "|          | Fractions |"
   ]
  },
  {
   "cell_type": "markdown",
   "id": "ebb607cf-973a-47a3-9b34-2d334600424f",
   "metadata": {},
   "source": [
    "#### Collections"
   ]
  },
  {
   "cell_type": "markdown",
   "id": "34e9a370-d568-4d4a-931f-428a595d13cf",
   "metadata": {},
   "source": [
    "\n",
    "| Data Type  | Mutable   | Immutable   | Mappings     |\n",
    "|------------|-----------|-------------|--------------|\n",
    "| Sequences  | Lists     | Tuples      |              |\n",
    "|            |           | Strings     |              |\n",
    "| Sets       | Sets      | Frozensets  |              |\n",
    "| Mappings   | \t         |             | Dictionaries |"
   ]
  },
  {
   "cell_type": "markdown",
   "id": "4d5c5366-7bb7-4a85-9a15-5b0b87f6ae03",
   "metadata": {},
   "source": [
    "#### Callables\n",
    "\n",
    "<p> Anything you can invoke is a \"Callable\".</p>\n",
    "\n",
    "#### Singletons\n",
    "\n",
    "<p> It exists out there on its own.</p>\n",
    "\n",
    "| Callables | Singletons |\n",
    "|-----------|------------|\n",
    "| User defined functions | None |\n",
    "| Generators | NotImplemented |\n",
    "| Classes | Ellipsis |\n",
    "| Instance Methods |     |\n",
    "| Class Instances(e.g. __call__()) |  |\n",
    "| Built-in functions (e.g. len(), open() ) |    |\n",
    "| Built-in Methods (e.g. Mylist.append(x) ) |   |"
   ]
  },
  {
   "cell_type": "markdown",
   "id": "2fa91da3-8632-40f4-a7b0-dc9e062ce201",
   "metadata": {},
   "source": [
    "### Multi-line Statements and Strings"
   ]
  },
  {
   "cell_type": "markdown",
   "id": "b0072699-8848-498f-be46-8841bc82f2a3",
   "metadata": {},
   "source": [
    "<p>Python Program </p>\n",
    "<pre>-----> Physical lines                         end with a physical newline character</pre>\n",
    "<pre>--------> Logical lines of code               end with a logical newline token</pre>\n",
    "<pre>-----------> tokenized.</pre>\n",
    "<pre> Physical newline vs logical newline\n",
    "    Sometimes, physical newlines are ignored\n",
    "    in order to combine multiple physical lines\n",
    "    into a single logical line of code\n",
    "    terminated by a logical newline token.</pre>"
   ]
  },
  {
   "cell_type": "markdown",
   "id": "7a19fcd1-c698-4adf-b5b5-e70cca7966ae",
   "metadata": {},
   "source": [
    "#### Implicit\n",
    "\n",
    "<pre>Expressions encloded by:\n",
    "    [] - list literals, list comprehensions\n",
    "    () - e.g., standard expressions, tuples\n",
    "    {} - e.g., dictionary/ set literals or comprehensions\n",
    "    function arguments/ parameters\n",
    "        supports inline comments</pre>"
   ]
  },
  {
   "cell_type": "code",
   "execution_count": 4,
   "id": "7c099e89-ad74-47ef-b089-7fc326a62067",
   "metadata": {},
   "outputs": [
    {
     "data": {
      "text/plain": [
       "[1, 2, 3]"
      ]
     },
     "execution_count": 4,
     "metadata": {},
     "output_type": "execute_result"
    }
   ],
   "source": [
    "[\n",
    "    1, #item1\n",
    "    2, #item2\n",
    "    3, #item3\n",
    "]"
   ]
  },
  {
   "cell_type": "code",
   "execution_count": 5,
   "id": "f3ca4844-167d-4ae5-9bda-9e390fff3bb2",
   "metadata": {},
   "outputs": [
    {
     "data": {
      "text/plain": [
       "[0, 4, 16, 36, 64]"
      ]
     },
     "execution_count": 5,
     "metadata": {},
     "output_type": "execute_result"
    }
   ],
   "source": [
    "[\n",
    "    i**2\n",
    "    for i in range(10)\n",
    "    if i%2==0\n",
    "]"
   ]
  },
  {
   "cell_type": "code",
   "execution_count": 6,
   "id": "2951a203-46c0-4806-ac13-dc98de151df3",
   "metadata": {},
   "outputs": [
    {
     "data": {
      "text/plain": [
       "30"
      ]
     },
     "execution_count": 6,
     "metadata": {},
     "output_type": "execute_result"
    }
   ],
   "source": [
    "a = (\n",
    "    10 +\n",
    "    20\n",
    ")\n",
    "a"
   ]
  },
  {
   "cell_type": "code",
   "execution_count": 7,
   "id": "c67dcfdf-dccf-45ce-89fd-e1ee98341dc2",
   "metadata": {},
   "outputs": [
    {
     "data": {
      "text/plain": [
       "6.2279"
      ]
     },
     "execution_count": 7,
     "metadata": {},
     "output_type": "execute_result"
    }
   ],
   "source": [
    "def addition(a, #Integer\n",
    "             b, #float\n",
    "             c, #decimal\n",
    "            ):\n",
    "    return a + b + c\n",
    "addition( 1 , 2.0879 , 3.14)"
   ]
  },
  {
   "cell_type": "markdown",
   "id": "2107c4d4-9b87-47b6-9464-910eace1bf80",
   "metadata": {},
   "source": [
    "#### Explicit\n",
    "\n",
    "<pre>You can breakup statements over multiple lines explicitly, by using the '\\' (backslash) character.\n",
    "Multiline statemensts are not implicitly converted to a single logical line.\n",
    "\n",
    "    if a\n",
    "       and b\n",
    "       and c:\n",
    "The above won't work, but, we can write the same if condition in another way.\n",
    "    if a \\\n",
    "       and b \\\n",
    "       and c: </pre>"
   ]
  },
  {
   "cell_type": "markdown",
   "id": "f459d661-b71c-46a0-a4aa-6c650a85a0f9",
   "metadata": {},
   "source": [
    "### Multi-line String literals"
   ]
  },
  {
   "cell_type": "markdown",
   "id": "7b2d91ca-90d2-46d2-b649-5527d20d0298",
   "metadata": {},
   "source": [
    "<pre>Multi-line string literals can be created using triple delimiters. (' single or \" double quotes).\n",
    "    ''' This is a                                    \"\"\" This is a\n",
    "    multi-line string '''                            multi-line string \"\"\"\n",
    "\n",
    "Be aware that non-visible characters such as newlines, tabs, etc. are actually part of the string - basically\n",
    "anything you type.\n",
    "You can use escaped characters (e.g. \\n, \\t), use string formatting e.t.c.,\n",
    "a multi-line string is just a regular string.\n",
    "Multi-line strings are not comments although they can be used as such,\n",
    "especially with special comments called <b>docstrings</b>.</pre>"
   ]
  },
  {
   "cell_type": "markdown",
   "id": "f2d37719-82a9-42f0-ae6b-fa64ac10cc0f",
   "metadata": {},
   "source": [
    "### Identifier names or Variable names"
   ]
  },
  {
   "attachments": {},
   "cell_type": "markdown",
   "id": "f8d30199-5abb-4f65-b527-0c0058cce70f",
   "metadata": {},
   "source": [
    "<pre>Identifier names are <i><b>case sensitive</b></i>\n",
    "        e.g. my_var\n",
    "             my_Var\n",
    "             ham\n",
    "             Ham\n",
    "are <i>different</i> identifiers</pre>\n",
    "\n",
    "<pre>Identifiers must follow some rules and conventions\n",
    "Must start with either (_) or ( a-z or A-Z ), an identifier cannot start with a number, later can be followed by any number of (_), letters ( a-z, A-Z), or digits ( 0 - 9 ).\n",
    "\n",
    "    e.g. var myvar my_var index1 index_1 _var __var __ltr__ all are legal names.\n",
    "\n",
    "    Few words cannot be reserved\n",
    "        <b>None True False\n",
    "        and  or   not\n",
    "        if   else elif\n",
    "        for  while break continue pass\n",
    "        def lambda global nonlocal return yield\n",
    "        del in  is assert class\n",
    "        try except finally raise\n",
    "        import from wih as</b>\n",
    "\n",
    "        (Don't use the above-mentioned set of words as variable names)\n",
    "\n",
    "<b>Conventions:</b> \n",
    "      _my_var\n",
    "      |\n",
    "      |______  single underscore          (This is a convention to indicate \"internal use\" or \"private\" objects)\n",
    "                                          There is no concept of private in python everything is public, single _ at the beginning\n",
    "                                          of variable name is to indicate anybody that is using your code to don't meddle with this\n",
    "                                          variable, it is only for internal use.\n",
    "\n",
    "                                          Objects named this way will not get imported by a name such as:\n",
    "                                          from module import *\n",
    "                                          Note: It doesn't mean you cannot access it, you can still access it\n",
    "     \n",
    "      __my_var                            \n",
    "      |\n",
    "      |______   double underscore          Used to \"mangle\" class attributes - useful in inheritance chains.\n",
    "\n",
    "\n",
    "      __my_var__\n",
    "      |        |\n",
    "      |_______ double underscores          Used for system defined names that have a special name for the interpreter.\n",
    "                                           Don't invent them, stick to the ones predefined by Python.\n",
    "\n",
    "\n",
    "      \n",
    "\n",
    "</pre>\n",
    "\n"
   ]
  },
  {
   "cell_type": "markdown",
   "id": "99f447a0-99ba-45c8-9376-4163901c86ea",
   "metadata": {},
   "source": [
    "### Other Naming Conventions"
   ]
  },
  {
   "cell_type": "markdown",
   "id": "0c78d838-779a-4f92-b4bd-3c21a1eede31",
   "metadata": {},
   "source": [
    "<pre><b>Packages:</b>       short, all lower case names. Preferably no underscores                        ex: utilities\n",
    "<b>Modules:</b>        short, all lower case names. Can have underscores                             ex: db_utils    dbutils\n",
    "<b>Classes:</b>        CapWords (or upper camel case) convention                                     ex: BankAccount\n",
    "<b>Functions:</b>      lowercase, words separated by underscore(snake case), these can be            ex: open_account\n",
    "                independent functions or methods in your class both have same naming\n",
    "                convention\n",
    "<b>Variables:</b>      lowercase, words separated by underscore (snake case)                         ex: odd_count\n",
    "<b>Constants:</b>      all Uppercase, and words are separated by underscore                          ex: MIN_APR\n",
    "\n",
    "<b>PEP-8:</b>          <a href=\"https://peps.python.org/pep-0008/\" target=\"_blank\">Link</a></pre>"
   ]
  },
  {
   "cell_type": "markdown",
   "id": "a771732a-0dcf-454a-b41b-c7a208fa290d",
   "metadata": {},
   "source": [
    "### Conditionals"
   ]
  },
  {
   "cell_type": "markdown",
   "id": "ad639bf2-0569-4c90-b452-1b934acb12e2",
   "metadata": {},
   "source": [
    "A conditional is a construct that allows you to branch your code based on conditions being met (or not)\n",
    "\n",
    "This is achieved using **if**, **elif** and **else** or the **ternary operator** (aka conditional expression)"
   ]
  },
  {
   "cell_type": "code",
   "execution_count": 1,
   "id": "34ce6680",
   "metadata": {},
   "outputs": [
    {
     "name": "stdout",
     "output_type": "stream",
     "text": [
      "a < 5\n"
     ]
    }
   ],
   "source": [
    "a = 3\n",
    "\n",
    "if a < 5:\n",
    "    print('a < 5')"
   ]
  },
  {
   "cell_type": "markdown",
   "id": "5ba6eba1",
   "metadata": {},
   "source": [
    "<pre>If statement is true something is done, else something else can be performed\n",
    "\n",
    "syntax:\n",
    "\n",
    "\n",
    "        if (condition):\n",
    "            do something\n",
    "        else:\n",
    "            do something else</pre>"
   ]
  },
  {
   "cell_type": "code",
   "execution_count": 2,
   "id": "6309aad4",
   "metadata": {},
   "outputs": [
    {
     "name": "stdout",
     "output_type": "stream",
     "text": [
      "a >= 5\n"
     ]
    }
   ],
   "source": [
    "a = 7\n",
    "\n",
    "if a < 5:\n",
    "    print('a < 5')\n",
    "else:\n",
    "    print('a >= 5')"
   ]
  },
  {
   "cell_type": "markdown",
   "id": "3f1f628d",
   "metadata": {},
   "source": [
    "<pre>Multiple conditions can be checked using elif statement, usually syntax is as shown\n",
    "\n",
    "syntax:\n",
    "\n",
    "\n",
    "        if (condition):\n",
    "            do something\n",
    "        elif (condition):\n",
    "            do ......\n",
    "        elif (condition):\n",
    "            do .......\n",
    "        .\n",
    "        .\n",
    "        .\n",
    "        else: (here else is optional)\n",
    "            do something else</pre>"
   ]
  },
  {
   "cell_type": "code",
   "execution_count": 3,
   "id": "943ae71d",
   "metadata": {},
   "outputs": [
    {
     "name": "stdout",
     "output_type": "stream",
     "text": [
      "a >= 10\n"
     ]
    }
   ],
   "source": [
    "a = 15\n",
    "if a < 5:\n",
    "    print('a < 5')\n",
    "elif a < 10:\n",
    "    print('5 <= a < 10')\n",
    "else:\n",
    "    print('a >= 10')"
   ]
  },
  {
   "cell_type": "markdown",
   "id": "d9c3fd65",
   "metadata": {},
   "source": [
    "<pre>If statements can be nested, but mostly elif are preferred because they are good for readability\n",
    "but nested if else syntax looks something like this:\n",
    "\n",
    "syntax:\n",
    "\n",
    "        if (condition):\n",
    "            do something\n",
    "        else:\n",
    "            if (condition):\n",
    "                do something\n",
    "            else:\n",
    "                .\n",
    "                .\n",
    "                    .\n",
    "                    . and so on\n",
    "\n",
    "instead of nesting like this we can do elif which gives us better readability</pre>"
   ]
  },
  {
   "cell_type": "code",
   "execution_count": 4,
   "id": "d2b0fccd",
   "metadata": {},
   "outputs": [
    {
     "name": "stdout",
     "output_type": "stream",
     "text": [
      "a >= 10\n"
     ]
    }
   ],
   "source": [
    "a = 15\n",
    "\n",
    "if a < 5:\n",
    "    print('a < 5')\n",
    "else:\n",
    "    if a < 10:\n",
    "        print('5 <= a < 10')\n",
    "    else:\n",
    "        print('a >= 10')"
   ]
  },
  {
   "cell_type": "markdown",
   "id": "71aa08ba",
   "metadata": {},
   "source": [
    "In Python, **elif** is the closest you'll find to the switch/case statement available in some other languages."
   ]
  },
  {
   "cell_type": "markdown",
   "id": "471bcb29",
   "metadata": {},
   "source": [
    "Python also provides a conditional expression (ternary operator):\n",
    "\n",
    "X if (condition) else Y\n",
    "\n",
    "returns (and evaluates) X if (condition) is True, otherwise returns (and evaluates) Y"
   ]
  },
  {
   "cell_type": "code",
   "execution_count": 5,
   "id": "61872cf9",
   "metadata": {},
   "outputs": [
    {
     "name": "stdout",
     "output_type": "stream",
     "text": [
      "a < 10\n"
     ]
    }
   ],
   "source": [
    "a = 5\n",
    "res = 'a < 10' if a < 10 else 'a >= 10'\n",
    "print(res)"
   ]
  },
  {
   "cell_type": "code",
   "execution_count": 6,
   "id": "d19cfebb",
   "metadata": {},
   "outputs": [
    {
     "name": "stdout",
     "output_type": "stream",
     "text": [
      "a >= 10\n"
     ]
    }
   ],
   "source": [
    "a = 15\n",
    "res = 'a < 10' if a < 10 else 'a >= 10'\n",
    "print(res)"
   ]
  },
  {
   "cell_type": "markdown",
   "id": "ce48f72e",
   "metadata": {},
   "source": [
    "Note that **X** and **Y** can be any expression, not just literal values:"
   ]
  },
  {
   "cell_type": "code",
   "execution_count": 7,
   "id": "91ca3c30",
   "metadata": {},
   "outputs": [],
   "source": [
    "def say_hello():\n",
    "    print('Hello!')\n",
    "    \n",
    "def say_goodbye():\n",
    "    print('Goodbye!')"
   ]
  },
  {
   "cell_type": "code",
   "execution_count": 8,
   "id": "85616d33",
   "metadata": {},
   "outputs": [
    {
     "name": "stdout",
     "output_type": "stream",
     "text": [
      "Hello!\n"
     ]
    }
   ],
   "source": [
    "a = 5\n",
    "say_hello() if a < 10 else say_goodbye()"
   ]
  },
  {
   "cell_type": "code",
   "execution_count": 9,
   "id": "f3c4893b",
   "metadata": {},
   "outputs": [
    {
     "name": "stdout",
     "output_type": "stream",
     "text": [
      "Goodbye!\n"
     ]
    }
   ],
   "source": [
    "a = 15\n",
    "say_hello() if a < 10 else say_goodbye()"
   ]
  },
  {
   "cell_type": "markdown",
   "id": "797ad9d9",
   "metadata": {},
   "source": [
    "### Functions"
   ]
  },
  {
   "cell_type": "markdown",
   "id": "122f72a5",
   "metadata": {},
   "source": [
    "Python has many built-in functions and methods we can use"
   ]
  },
  {
   "cell_type": "markdown",
   "id": "2ecbb6fe",
   "metadata": {},
   "source": [
    "Some are available by default:"
   ]
  },
  {
   "cell_type": "code",
   "execution_count": 10,
   "id": "32547914",
   "metadata": {},
   "outputs": [
    {
     "data": {
      "text/plain": [
       "3"
      ]
     },
     "execution_count": 10,
     "metadata": {},
     "output_type": "execute_result"
    }
   ],
   "source": [
    "s = [1, 2, 3]\n",
    "len(s)"
   ]
  },
  {
   "cell_type": "markdown",
   "id": "69301d63",
   "metadata": {},
   "source": [
    "<pre>Sometimes you have to import other built in functions in python, some examples would be\n",
    "from math we can import builtin functions like sqrt, float, floor, log </pre>"
   ]
  },
  {
   "cell_type": "code",
   "execution_count": 11,
   "id": "dcfd754a",
   "metadata": {},
   "outputs": [
    {
     "data": {
      "text/plain": [
       "4.0"
      ]
     },
     "execution_count": 11,
     "metadata": {},
     "output_type": "execute_result"
    }
   ],
   "source": [
    "from math import sqrt\n",
    "sqrt(16)"
   ]
  },
  {
   "cell_type": "markdown",
   "id": "0c16299b",
   "metadata": {},
   "source": [
    "On the otherhand we can import an entire module and access all the fuctions inside the module"
   ]
  },
  {
   "cell_type": "code",
   "execution_count": 13,
   "id": "fd3aeded",
   "metadata": {},
   "outputs": [
    {
     "data": {
      "text/plain": [
       "3.141592653589793"
      ]
     },
     "execution_count": 13,
     "metadata": {},
     "output_type": "execute_result"
    }
   ],
   "source": [
    "import math\n",
    "\n",
    "\n",
    "\n",
    "math.pi"
   ]
  },
  {
   "cell_type": "code",
   "execution_count": 14,
   "id": "fadd0848",
   "metadata": {},
   "outputs": [
    {
     "data": {
      "text/plain": [
       "2.0"
      ]
     },
     "execution_count": 14,
     "metadata": {},
     "output_type": "execute_result"
    }
   ],
   "source": [
    "math.log(100, 10)"
   ]
  },
  {
   "cell_type": "code",
   "execution_count": 15,
   "id": "7c9d47cc",
   "metadata": {},
   "outputs": [
    {
     "data": {
      "text/plain": [
       "4.0"
      ]
     },
     "execution_count": 15,
     "metadata": {},
     "output_type": "execute_result"
    }
   ],
   "source": [
    "math.sqrt(16)"
   ]
  },
  {
   "cell_type": "markdown",
   "id": "d6fbc99f",
   "metadata": {},
   "source": [
    "<pre>We can also define our own functions, called user defined functions\n",
    "functions are nothing but objects which contains some other stuff along with\n",
    "code and we assign that to a name (variable), thats what the <b>def</b> does \n",
    "</pre>"
   ]
  },
  {
   "cell_type": "code",
   "execution_count": 16,
   "id": "90ed9ca3",
   "metadata": {},
   "outputs": [],
   "source": [
    "def func_1():\n",
    "    print('Function 1')"
   ]
  },
  {
   "cell_type": "code",
   "execution_count": 17,
   "id": "440a73eb",
   "metadata": {},
   "outputs": [
    {
     "data": {
      "text/plain": [
       "<function __main__.func_1()>"
      ]
     },
     "execution_count": 17,
     "metadata": {},
     "output_type": "execute_result"
    }
   ],
   "source": [
    "func_1"
   ]
  },
  {
   "cell_type": "code",
   "execution_count": 18,
   "id": "e07c346d",
   "metadata": {},
   "outputs": [
    {
     "name": "stdout",
     "output_type": "stream",
     "text": [
      "Function 1\n"
     ]
    }
   ],
   "source": [
    "func_1()"
   ]
  },
  {
   "cell_type": "code",
   "execution_count": 19,
   "id": "fe29627d",
   "metadata": {},
   "outputs": [],
   "source": [
    "def fun_2(a: int, b: int) -> int:\n",
    "    return a + b"
   ]
  },
  {
   "cell_type": "markdown",
   "id": "839f3f08",
   "metadata": {},
   "source": [
    "In python there is no exclusive type declaration for variables or function parameters. If you really want to you can actually put in something called <q><b>annotations</b></q>"
   ]
  },
  {
   "cell_type": "markdown",
   "id": "5cfa48ea",
   "metadata": {},
   "source": [
    "Type annotations make Python code easier to read, safer to change, and nicer to work with—without changing how it runs by default."
   ]
  },
  {
   "cell_type": "markdown",
   "id": "60565dba",
   "metadata": {},
   "source": [
    "### What they actually do"
   ]
  },
  {
   "cell_type": "markdown",
   "id": "6c97c9da",
   "metadata": {},
   "source": [
    "- Describe shapes of values to humans and tools: editors, linters, and type checkers.\n",
    "\n",
    "- No runtime enforcement by CPython (unless a library validates them). They’re metadata.\n",
    "\n",
    "- Modern Python (3.11+) stores annotations as strings; resolve them with \n",
    "    \n",
    "    typing.get_type_hints."
   ]
  },
  {
   "cell_type": "markdown",
   "id": "2800f371",
   "metadata": {},
   "source": [
    "### Why they help"
   ]
  },
  {
   "cell_type": "markdown",
   "id": "6f6c0b7e",
   "metadata": {},
   "source": [
    "#### 1. Catch bugs early (static checking)"
   ]
  },
  {
   "cell_type": "code",
   "execution_count": 1,
   "id": "c907621a",
   "metadata": {},
   "outputs": [
    {
     "ename": "TypeError",
     "evalue": "unsupported operand type(s) for +: 'int' and 'str'",
     "output_type": "error",
     "traceback": [
      "\u001b[31m---------------------------------------------------------------------------\u001b[39m",
      "\u001b[31mTypeError\u001b[39m                                 Traceback (most recent call last)",
      "\u001b[36mCell\u001b[39m\u001b[36m \u001b[39m\u001b[32mIn[1]\u001b[39m\u001b[32m, line 7\u001b[39m\n\u001b[32m      4\u001b[39m     \u001b[38;5;28;01mreturn\u001b[39;00m \u001b[38;5;28msum\u001b[39m(xs) / \u001b[38;5;28mlen\u001b[39m(xs)\n\u001b[32m      6\u001b[39m mean([\u001b[32m1.0\u001b[39m, \u001b[32m2.0\u001b[39m])   \u001b[38;5;66;03m# ok\u001b[39;00m\n\u001b[32m----> \u001b[39m\u001b[32m7\u001b[39m \u001b[43mmean\u001b[49m\u001b[43m(\u001b[49m\u001b[43m[\u001b[49m\u001b[33;43m\"\u001b[39;49m\u001b[33;43ma\u001b[39;49m\u001b[33;43m\"\u001b[39;49m\u001b[43m,\u001b[49m\u001b[43m \u001b[49m\u001b[33;43m\"\u001b[39;49m\u001b[33;43mb\u001b[39;49m\u001b[33;43m\"\u001b[39;49m\u001b[43m]\u001b[49m\u001b[43m)\u001b[49m   \u001b[38;5;66;03m# mypy/pyright flag this before you run\u001b[39;00m\n",
      "\u001b[36mCell\u001b[39m\u001b[36m \u001b[39m\u001b[32mIn[1]\u001b[39m\u001b[32m, line 4\u001b[39m, in \u001b[36mmean\u001b[39m\u001b[34m(xs)\u001b[39m\n\u001b[32m      3\u001b[39m \u001b[38;5;28;01mdef\u001b[39;00m\u001b[38;5;250m \u001b[39m\u001b[34mmean\u001b[39m(xs: List[\u001b[38;5;28mfloat\u001b[39m]) -> \u001b[38;5;28mfloat\u001b[39m:\n\u001b[32m----> \u001b[39m\u001b[32m4\u001b[39m     \u001b[38;5;28;01mreturn\u001b[39;00m \u001b[38;5;28;43msum\u001b[39;49m\u001b[43m(\u001b[49m\u001b[43mxs\u001b[49m\u001b[43m)\u001b[49m / \u001b[38;5;28mlen\u001b[39m(xs)\n",
      "\u001b[31mTypeError\u001b[39m: unsupported operand type(s) for +: 'int' and 'str'"
     ]
    }
   ],
   "source": [
    "from typing import List\n",
    "\n",
    "def mean(xs: List[float]) -> float:\n",
    "    return sum(xs) / len(xs)\n",
    "\n",
    "mean([1.0, 2.0])   # ok\n",
    "mean([\"a\", \"b\"])   # mypy/pyright flag this before you run"
   ]
  },
  {
   "cell_type": "markdown",
   "id": "3108841a",
   "metadata": {},
   "source": [
    "#### 2. Better IDE help & navigation"
   ]
  },
  {
   "cell_type": "markdown",
   "id": "7bada889",
   "metadata": {},
   "source": [
    "- Autocomplete for methods/attributes.\n",
    "\n",
    "- Inline type hints and jump-to-definition work far better."
   ]
  },
  {
   "cell_type": "markdown",
   "id": "3321adda",
   "metadata": {},
   "source": [
    "#### 3. Self-documenting APIs"
   ]
  },
  {
   "cell_type": "code",
   "execution_count": 2,
   "id": "2e0e664a",
   "metadata": {},
   "outputs": [],
   "source": [
    "def fetch_user(user_id: int) -> \"User\": ...\n"
   ]
  },
  {
   "cell_type": "markdown",
   "id": "c9be8e5f",
   "metadata": {},
   "source": [
    "Anyone reading this knows inputs/outputs at a glance."
   ]
  },
  {
   "cell_type": "markdown",
   "id": "d7c404f0",
   "metadata": {},
   "source": [
    "#### 4. Refactoring confidence"
   ]
  },
  {
   "cell_type": "markdown",
   "id": "71a59959",
   "metadata": {},
   "source": [
    "- Renaming fields, changing return types, etc., breaks in one place instead of at runtime later."
   ]
  },
  {
   "cell_type": "markdown",
   "id": "f01a3c59",
   "metadata": {},
   "source": [
    "#### 5. Richer library integrations"
   ]
  },
  {
   "cell_type": "markdown",
   "id": "91c20778",
   "metadata": {},
   "source": [
    "- dataclasses / pydantic / attrs use annotations to create fields.\n",
    "\n",
    "- FastAPI uses them to generate validation & OpenAPI docs."
   ]
  },
  {
   "cell_type": "code",
   "execution_count": 3,
   "id": "e65d04c5",
   "metadata": {},
   "outputs": [],
   "source": [
    "from dataclasses import dataclass\n",
    "\n",
    "@dataclass\n",
    "class Point:\n",
    "    x: float\n",
    "    y: float\n"
   ]
  },
  {
   "cell_type": "markdown",
   "id": "b60a7487",
   "metadata": {},
   "source": [
    "#### 6. Expressive designs (beyond basics)"
   ]
  },
  {
   "cell_type": "code",
   "execution_count": 4,
   "id": "28978b66",
   "metadata": {},
   "outputs": [],
   "source": [
    "from typing import Optional, Union, Literal, TypeVar, Generic, Callable, Protocol\n",
    "\n",
    "# Unions / optionals\n",
    "def parse_i32(s: str) -> Optional[int]: ...\n",
    "\n",
    "# Literals for fixed choices\n",
    "def set_mode(mode: Literal[\"r\",\"w\",\"a\"]) -> None: ...\n",
    "\n",
    "# Generics\n",
    "T = TypeVar(\"T\")\n",
    "def head(xs: list[T]) -> T: return xs[0]\n",
    "\n",
    "# Structural typing\n",
    "class SupportsClose(Protocol):\n",
    "    def close(self) -> None: ...\n",
    "\n",
    "def consume(x: SupportsClose) -> None: x.close()\n"
   ]
  },
  {
   "cell_type": "markdown",
   "id": "da48b5da",
   "metadata": {},
   "source": [
    "#### 7. Decorator-friendly & higher-order functions"
   ]
  },
  {
   "cell_type": "code",
   "execution_count": 5,
   "id": "bae9c878",
   "metadata": {},
   "outputs": [],
   "source": [
    "from typing import ParamSpec, TypeVar, Callable\n",
    "P = ParamSpec(\"P\")\n",
    "R = TypeVar(\"R\")\n",
    "\n",
    "def logged(fn: Callable[P, R]) -> Callable[P, R]:\n",
    "    def wrap(*args: P.args, **kwargs: P.kwargs) -> R:\n",
    "        print(fn.__name__, args, kwargs)\n",
    "        return fn(*args, **kwargs)\n",
    "    return wrap\n"
   ]
  },
  {
   "cell_type": "markdown",
   "id": "46687517",
   "metadata": {},
   "source": [
    "#### 8. Runtime introspection when you need it"
   ]
  },
  {
   "cell_type": "code",
   "execution_count": 6,
   "id": "76980d91",
   "metadata": {},
   "outputs": [
    {
     "name": "stdout",
     "output_type": "stream",
     "text": [
      "{'x': list[int], 'return': dict[str, int]}\n"
     ]
    }
   ],
   "source": [
    "from typing import get_type_hints\n",
    "\n",
    "def f(x: \"list[int]\") -> \"dict[str, int]\": ...\n",
    "print(get_type_hints(f))  # {'x': list[int], 'return': dict[str, int]}\n"
   ]
  },
  {
   "cell_type": "markdown",
   "id": "025c4772",
   "metadata": {},
   "source": [
    "But as you can see, these do not enforce a data type! They are simply metadata that can be used by external libraries, and many IDE's."
   ]
  },
  {
   "cell_type": "markdown",
   "id": "f954248d",
   "metadata": {},
   "source": [
    "Functions are objects, just like integers are objects, and they can be assigned to variables just as an integer can:"
   ]
  },
  {
   "cell_type": "code",
   "execution_count": 7,
   "id": "f79574fc",
   "metadata": {},
   "outputs": [],
   "source": [
    "def func3(a: int, b: int) -> int:\n",
    "    return a * b"
   ]
  },
  {
   "cell_type": "code",
   "execution_count": 8,
   "id": "f5bb2c8c",
   "metadata": {},
   "outputs": [
    {
     "data": {
      "text/plain": [
       "12"
      ]
     },
     "execution_count": 8,
     "metadata": {},
     "output_type": "execute_result"
    }
   ],
   "source": [
    "myfunc = func3\n",
    "myfunc(3, 4)"
   ]
  },
  {
   "cell_type": "markdown",
   "id": "d6830d36",
   "metadata": {},
   "source": [
    "Functions **must** always return something. If you do not specify a return value, Python will automatically return the **None** object:"
   ]
  },
  {
   "cell_type": "code",
   "execution_count": 9,
   "id": "b5531505",
   "metadata": {},
   "outputs": [],
   "source": [
    "def func_4():\n",
    "    # does something but does not return a value\n",
    "    a = 2"
   ]
  },
  {
   "cell_type": "code",
   "execution_count": 10,
   "id": "ff78d20e",
   "metadata": {},
   "outputs": [],
   "source": [
    "res = func_4()"
   ]
  },
  {
   "cell_type": "code",
   "execution_count": 11,
   "id": "c055f90d",
   "metadata": {},
   "outputs": [
    {
     "name": "stdout",
     "output_type": "stream",
     "text": [
      "None\n"
     ]
    }
   ],
   "source": [
    "print(res)"
   ]
  },
  {
   "cell_type": "markdown",
   "id": "0e9938da",
   "metadata": {},
   "source": [
    "The **def** keyword is an executable piece of code that creates the function (an instance of the **function** class) and essentially assigns it to a variable name (the function **name**). \n",
    "\n",
    "Note that the function is defined when **def** is reached, but the code inside it is not evaluated until the function is called.\n",
    "\n",
    "This is why we can define functions that call other functions defined later - as long as we don't call them before all the necessary functions are defined."
   ]
  },
  {
   "cell_type": "markdown",
   "id": "de87d1f9",
   "metadata": {},
   "source": [
    "For example, the following will work:"
   ]
  },
  {
   "cell_type": "code",
   "execution_count": 12,
   "id": "53537b94",
   "metadata": {},
   "outputs": [
    {
     "name": "stdout",
     "output_type": "stream",
     "text": [
      "Hello\n"
     ]
    }
   ],
   "source": [
    "def fn_1():\n",
    "    fn_2()\n",
    "    \n",
    "def fn_2():\n",
    "    print('Hello')\n",
    "    \n",
    "fn_1()"
   ]
  },
  {
   "cell_type": "markdown",
   "id": "3575214a",
   "metadata": {},
   "source": [
    "But this will not work:"
   ]
  },
  {
   "cell_type": "code",
   "execution_count": 13,
   "id": "1f4d9d72",
   "metadata": {},
   "outputs": [
    {
     "ename": "NameError",
     "evalue": "name 'fn_4' is not defined",
     "output_type": "error",
     "traceback": [
      "\u001b[31m---------------------------------------------------------------------------\u001b[39m",
      "\u001b[31mNameError\u001b[39m                                 Traceback (most recent call last)",
      "\u001b[36mCell\u001b[39m\u001b[36m \u001b[39m\u001b[32mIn[13]\u001b[39m\u001b[32m, line 4\u001b[39m\n\u001b[32m      1\u001b[39m \u001b[38;5;28;01mdef\u001b[39;00m\u001b[38;5;250m \u001b[39m\u001b[34mfn_3\u001b[39m():\n\u001b[32m      2\u001b[39m     fn_4()\n\u001b[32m----> \u001b[39m\u001b[32m4\u001b[39m \u001b[43mfn_3\u001b[49m\u001b[43m(\u001b[49m\u001b[43m)\u001b[49m\n\u001b[32m      6\u001b[39m \u001b[38;5;28;01mdef\u001b[39;00m\u001b[38;5;250m \u001b[39m\u001b[34mfn_4\u001b[39m():\n\u001b[32m      7\u001b[39m     \u001b[38;5;28mprint\u001b[39m(\u001b[33m'\u001b[39m\u001b[33mHello\u001b[39m\u001b[33m'\u001b[39m)\n",
      "\u001b[36mCell\u001b[39m\u001b[36m \u001b[39m\u001b[32mIn[13]\u001b[39m\u001b[32m, line 2\u001b[39m, in \u001b[36mfn_3\u001b[39m\u001b[34m()\u001b[39m\n\u001b[32m      1\u001b[39m \u001b[38;5;28;01mdef\u001b[39;00m\u001b[38;5;250m \u001b[39m\u001b[34mfn_3\u001b[39m():\n\u001b[32m----> \u001b[39m\u001b[32m2\u001b[39m     \u001b[43mfn_4\u001b[49m()\n",
      "\u001b[31mNameError\u001b[39m: name 'fn_4' is not defined"
     ]
    }
   ],
   "source": [
    "def fn_3():\n",
    "    fn_4()\n",
    "\n",
    "fn_3()\n",
    "\n",
    "def fn_4():\n",
    "    print('Hello')"
   ]
  },
  {
   "cell_type": "code",
   "execution_count": null,
   "id": "e70863ef",
   "metadata": {},
   "outputs": [],
   "source": []
  }
 ],
 "metadata": {
  "kernelspec": {
   "display_name": "Python 3",
   "language": "python",
   "name": "python3"
  },
  "language_info": {
   "codemirror_mode": {
    "name": "ipython",
    "version": 3
   },
   "file_extension": ".py",
   "mimetype": "text/x-python",
   "name": "python",
   "nbconvert_exporter": "python",
   "pygments_lexer": "ipython3",
   "version": "3.12.10"
  }
 },
 "nbformat": 4,
 "nbformat_minor": 5
}
