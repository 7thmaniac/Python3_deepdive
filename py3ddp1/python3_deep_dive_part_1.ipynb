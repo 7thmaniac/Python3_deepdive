{
 "cells": [
  {
   "cell_type": "markdown",
   "id": "ed8c07aa-8b35-483d-9b51-bb6950b55296",
   "metadata": {},
   "source": [
    "#### Numbers\n",
    "\n",
    "| Integral | Non-Integral |\n",
    "|----------|--------------|\n",
    "| Integers | Floats(c double) |\n",
    "| Booleans | Complex |\n",
    "|          | Decimals |\n",
    "|          | Fractions |"
   ]
  },
  {
   "cell_type": "markdown",
   "id": "ebb607cf-973a-47a3-9b34-2d334600424f",
   "metadata": {},
   "source": [
    "#### Collections"
   ]
  },
  {
   "cell_type": "markdown",
   "id": "34e9a370-d568-4d4a-931f-428a595d13cf",
   "metadata": {},
   "source": [
    "\n",
    "| Data Type  | Mutable   | Immutable   | Mappings     |\n",
    "|------------|-----------|-------------|--------------|\n",
    "| Sequences  | Lists     | Tuples      |              |\n",
    "|            |           | Strings     |              |\n",
    "| Sets       | Sets      | Frozensets  |              |\n",
    "| Mappings   | \t         |             | Dictionaries |"
   ]
  },
  {
   "cell_type": "markdown",
   "id": "4d5c5366-7bb7-4a85-9a15-5b0b87f6ae03",
   "metadata": {},
   "source": [
    "#### Callables\n",
    "\n",
    "<p> Anything you can invoke is a \"Callable\".</p>\n",
    "\n",
    "#### Singletons\n",
    "\n",
    "<p> It exists out there on its own.</p>\n",
    "\n",
    "| Callables | Singletons |\n",
    "|-----------|------------|\n",
    "| User defined functions | None |\n",
    "| Generators | NotImplemented |\n",
    "| Classes | Ellipsis |\n",
    "| Instance Methods |     |\n",
    "| Class Instances(e.g. __call__()) |  |\n",
    "| Built-in functions (e.g. len(), open() ) |    |\n",
    "| Built-in Methods (e.g. Mylist.append(x) ) |   |"
   ]
  },
  {
   "cell_type": "markdown",
   "id": "2fa91da3-8632-40f4-a7b0-dc9e062ce201",
   "metadata": {},
   "source": [
    "### Multi-line Statements and Strings"
   ]
  },
  {
   "cell_type": "markdown",
   "id": "b0072699-8848-498f-be46-8841bc82f2a3",
   "metadata": {},
   "source": [
    "<p>Python Program </p>\n",
    "<pre>-----> Physical lines                         end with a physical newline character</pre>\n",
    "<pre>--------> Logical lines of code               end with a logical newline token</pre>\n",
    "<pre>-----------> tokenized.</pre>\n",
    "<pre> Physical newline vs logical newline\n",
    "    Sometimes, physical newlines are ignored\n",
    "    in order to combine multiple physical lines\n",
    "    into a single logical line of code\n",
    "    terminated by a logical newline token.</pre>"
   ]
  },
  {
   "cell_type": "markdown",
   "id": "7a19fcd1-c698-4adf-b5b5-e70cca7966ae",
   "metadata": {},
   "source": [
    "#### Implicit\n",
    "\n",
    "<pre>Expressions encloded by:\n",
    "    [] - list literals, list comprehensions\n",
    "    () - e.g., standard expressions, tuples\n",
    "    {} - e.g., dictionary/ set literals or comprehensions\n",
    "    function arguments/ parameters\n",
    "        supports inline comments</pre>"
   ]
  },
  {
   "cell_type": "code",
   "execution_count": 1,
   "id": "7c099e89-ad74-47ef-b089-7fc326a62067",
   "metadata": {},
   "outputs": [
    {
     "data": {
      "text/plain": [
       "[1, 2, 3]"
      ]
     },
     "execution_count": 1,
     "metadata": {},
     "output_type": "execute_result"
    }
   ],
   "source": [
    "[\n",
    "    1, #item1\n",
    "    2, #item2\n",
    "    3, #item3\n",
    "]"
   ]
  },
  {
   "cell_type": "code",
   "execution_count": 9,
   "id": "f3ca4844-167d-4ae5-9bda-9e390fff3bb2",
   "metadata": {},
   "outputs": [
    {
     "data": {
      "text/plain": [
       "[0, 4, 16, 36, 64]"
      ]
     },
     "execution_count": 9,
     "metadata": {},
     "output_type": "execute_result"
    }
   ],
   "source": [
    "[\n",
    "    i**2\n",
    "    for i in range(10)\n",
    "    if i%2==0\n",
    "]"
   ]
  },
  {
   "cell_type": "code",
   "execution_count": 11,
   "id": "2951a203-46c0-4806-ac13-dc98de151df3",
   "metadata": {},
   "outputs": [
    {
     "data": {
      "text/plain": [
       "30"
      ]
     },
     "execution_count": 11,
     "metadata": {},
     "output_type": "execute_result"
    }
   ],
   "source": [
    "a = (\n",
    "    10 +\n",
    "    20\n",
    ")\n",
    "a"
   ]
  },
  {
   "cell_type": "code",
   "execution_count": 13,
   "id": "c67dcfdf-dccf-45ce-89fd-e1ee98341dc2",
   "metadata": {},
   "outputs": [
    {
     "data": {
      "text/plain": [
       "6.2279"
      ]
     },
     "execution_count": 13,
     "metadata": {},
     "output_type": "execute_result"
    }
   ],
   "source": [
    "def addition(a, #Integer\n",
    "             b, #float\n",
    "             c, #decimal\n",
    "            ):\n",
    "    return a + b + c\n",
    "addition( 1 , 2.0879 , 3.14)"
   ]
  },
  {
   "cell_type": "markdown",
   "id": "2107c4d4-9b87-47b6-9464-910eace1bf80",
   "metadata": {},
   "source": [
    "#### Explicit\n",
    "\n",
    "<pre>You can breakup statements over multiple lines explicitly, by using the '\\' (backslash) character.\n",
    "Multiline statemensts are not implicitly converted to a single logical line.\n",
    "\n",
    "    if a\n",
    "       and b\n",
    "       and c:\n",
    "The above won't work, but, we can write the same if condition in another way.\n",
    "    if a \\\n",
    "       and b \\\n",
    "       and c: </pre>"
   ]
  },
  {
   "cell_type": "markdown",
   "id": "f459d661-b71c-46a0-a4aa-6c650a85a0f9",
   "metadata": {},
   "source": [
    "### Multi-line String literals"
   ]
  },
  {
   "cell_type": "markdown",
   "id": "7b2d91ca-90d2-46d2-b649-5527d20d0298",
   "metadata": {},
   "source": [
    "<pre>Multi-line string literals can be created using triple delimiters. (' single or \" double quotes).\n",
    "    ''' This is a                                    \"\"\" This is a\n",
    "    multi-line string '''                            multi-line string \"\"\"\n",
    "\n",
    "Be aware that non-visible characters such as newlines, tabs, etc. are actually part of the string - basically\n",
    "anything you type.\n",
    "You can use escaped characters (e.g. \\n, \\t), use string formatting e.t.c.,\n",
    "a multi-line string is just a regular string.\n",
    "Multi-line strings are not comments although they can be used as such,\n",
    "especially with special comments called <b>docstrings</b>.</pre>"
   ]
  },
  {
   "cell_type": "markdown",
   "id": "f2d37719-82a9-42f0-ae6b-fa64ac10cc0f",
   "metadata": {},
   "source": [
    "### Identifier names or Variable names"
   ]
  },
  {
   "cell_type": "markdown",
   "id": "fa77a33a-19ae-4c0c-8001-a48c44d474ed",
   "metadata": {},
   "source": [
    "<pre>Identifier names are <i><b>case sensitive</b></i>\n",
    "        e.g. my_var\n",
    "             my_Var\n",
    "             ham\n",
    "             Ham\n",
    "are <i>different</i> identifiers</pre>\n",
    "\n",
    "<pre>Identifiers must follow some rules and conventions\n",
    "Must start with either (_) or ( a-z or A-Z ), an identifier cannot be started with a number, later can be followed by any number of (_), letters ( a-z, A - Z ), or digits ( 0 - 9 ).\n",
    "\n",
    "    e.g. var myvar my_var index1 index_1 _var __var __ltr__ all are legal names.\n",
    "\n",
    "    Few words cannot be reserved\n",
    "        <b>None True False\n",
    "        and  or   not\n",
    "        if   else elif\n",
    "        for  while break continue pass\n",
    "        def lambda global nonlocal return yield\n",
    "        del in  is assert class\n",
    "        try except finally raise\n",
    "        import from wih as</b>\n",
    "\n",
    "        (Don't use above mentioned set of words as variable names)\n",
    "\n",
    "<b>Conventions:</b> \n",
    "      _my_var\n",
    "      |\n",
    "      |______  single underscore          (This is a convention to indicate \"internal use\" or \"private\" objects)\n",
    "                                          There is no concept of private in python everything is public, single _ at the beginning\n",
    "                                          of variable name is to indicate anybody that is using your code to don't meddle with this\n",
    "                                          variable it is only for internal use.\n",
    "\n",
    "                                          Objects named this way will not get imported by a name such as:\n",
    "                                          from module import *</pre>"
   ]
  },
  {
   "cell_type": "code",
   "execution_count": 13,
   "id": "c86e1734-65ca-44fa-a639-fec23e6121a3",
   "metadata": {},
   "outputs": [],
   "source": [
    "import this"
   ]
  },
  {
   "cell_type": "code",
   "execution_count": null,
   "id": "113f4da1-b1cc-46b6-bcc5-cc45f5d66fb4",
   "metadata": {},
   "outputs": [],
   "source": []
  }
 ],
 "metadata": {
  "kernelspec": {
   "display_name": "Python 3 (ipykernel)",
   "language": "python",
   "name": "python3"
  },
  "language_info": {
   "codemirror_mode": {
    "name": "ipython",
    "version": 3
   },
   "file_extension": ".py",
   "mimetype": "text/x-python",
   "name": "python",
   "nbconvert_exporter": "python",
   "pygments_lexer": "ipython3",
   "version": "3.12.4"
  }
 },
 "nbformat": 4,
 "nbformat_minor": 5
}
