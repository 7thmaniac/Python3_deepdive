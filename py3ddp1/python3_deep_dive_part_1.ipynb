{
 "cells": [
  {
   "cell_type": "markdown",
   "id": "ed8c07aa-8b35-483d-9b51-bb6950b55296",
   "metadata": {},
   "source": [
    "#### Numbers\n",
    "\n",
    "| Integral | Non-Integral |\n",
    "|----------|--------------|\n",
    "| Integers | Floats(c double) |\n",
    "| Booleans | Complex |\n",
    "|          | Decimals |\n",
    "|          | Fractions |"
   ]
  },
  {
   "cell_type": "markdown",
   "id": "ebb607cf-973a-47a3-9b34-2d334600424f",
   "metadata": {},
   "source": [
    "#### Collections"
   ]
  },
  {
   "cell_type": "markdown",
   "id": "34e9a370-d568-4d4a-931f-428a595d13cf",
   "metadata": {},
   "source": [
    "\n",
    "| Data Type  | Mutable   | Immutable   | Mappings     |\n",
    "|------------|-----------|-------------|--------------|\n",
    "| Sequences  | Lists     | Tuples      |              |\n",
    "|            |           | Strings     |              |\n",
    "| Sets       | Sets      | Frozensets  |              |\n",
    "| Mappings   | \t         |             | Dictionaries |"
   ]
  },
  {
   "cell_type": "markdown",
   "id": "4d5c5366-7bb7-4a85-9a15-5b0b87f6ae03",
   "metadata": {},
   "source": [
    "#### Callables\n",
    "\n",
    "<p> Anything you can invoke is a \"Callable\".</p>\n",
    "\n",
    "#### Singletons\n",
    "\n",
    "<p> It exists out there on its own.</p>\n",
    "\n",
    "| Callables | Singletons |\n",
    "|-----------|------------|\n",
    "| User defined functions | None |\n",
    "| Generators | NotImplemented |\n",
    "| Classes | Ellipsis |\n",
    "| Instance Methods |     |\n",
    "| Class Instances(e.g. __call__()) |  |\n",
    "| Built-in functions (e.g. len(), open() ) |    |\n",
    "| Built-in Methods (e.g. Mylist.append(x) ) |   |"
   ]
  },
  {
   "cell_type": "code",
   "execution_count": null,
   "id": "fede0657-3b19-406a-b652-f764c9420948",
   "metadata": {},
   "outputs": [],
   "source": []
  }
 ],
 "metadata": {
  "kernelspec": {
   "display_name": "Python 3 (ipykernel)",
   "language": "python",
   "name": "python3"
  },
  "language_info": {
   "codemirror_mode": {
    "name": "ipython",
    "version": 3
   },
   "file_extension": ".py",
   "mimetype": "text/x-python",
   "name": "python",
   "nbconvert_exporter": "python",
   "pygments_lexer": "ipython3",
   "version": "3.12.4"
  }
 },
 "nbformat": 4,
 "nbformat_minor": 5
}
